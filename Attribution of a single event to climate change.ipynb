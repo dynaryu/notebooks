{
 "metadata": {
  "name": "",
  "signature": "sha256:1d687440af34b402b83d129dd6f8e966b6496bd4f2bb1c2f1f69b515c39095ec"
 },
 "nbformat": 3,
 "nbformat_minor": 0,
 "worksheets": [
  {
   "cells": [
    {
     "cell_type": "code",
     "collapsed": false,
     "input": [
      "import numpy as np\n",
      "import matplotlib.pyplot as plt\n",
      "from scipy.stats import norm\n",
      "from itertools import product\n",
      "\n",
      "import seaborn; seaborn.set()"
     ],
     "language": "python",
     "metadata": {},
     "outputs": [],
     "prompt_number": 1
    },
    {
     "cell_type": "code",
     "collapsed": false,
     "input": [
      "mu = 0.5\n",
      "beta = 1.5\n"
     ],
     "language": "python",
     "metadata": {},
     "outputs": [],
     "prompt_number": 2
    },
    {
     "cell_type": "markdown",
     "metadata": {},
     "source": [
      "The length of records are $T_1$ and $T_2$, the ratio of the two is $\\tau$\n"
     ]
    },
    {
     "cell_type": "code",
     "collapsed": false,
     "input": [
      "T1 = 20\n",
      "T2 = 10\n",
      "tau = T1/T2\n"
     ],
     "language": "python",
     "metadata": {},
     "outputs": [],
     "prompt_number": 3
    },
    {
     "cell_type": "markdown",
     "metadata": {},
     "source": [
      "The conditional probability of observing $x$ and $y$ is \n"
     ]
    },
    {
     "cell_type": "markdown",
     "metadata": {},
     "source": [
      "$\\mathrm{prob}(X=x, Y=y) = \\frac{[\\mu(T_1 + \\beta T_2)]^{x+y}\\exp{[-\\mu (T_1 + \\beta T_2)]}}{(x+y)!} \\times \\frac{(x+y)!}{x!y!}[\\tau / (\\tau+\\beta)]^x [\\beta/(\\tau + \\beta)]^y]$\n",
      "\n"
     ]
    },
    {
     "cell_type": "code",
     "collapsed": false,
     "input": [
      "def jointProb(x, y, mu, beta, T1, T2):\n",
      "    tau = T1/T2\n",
      "    xyfac = np.misc.factorial(x + y)\n",
      "    xfac = np.misc.factorial(x)\n",
      "    yfac = np.misc.factorial(y)\n",
      "    totalobs = np.power(mu*(T1 + beta * T2), x + y) * np.exp(-mu * (T1 + beta * T2)) / xyfac\n",
      "    condprob = (xyfac / (xfac * yfac) ) * np.power(tau/(tau + beta), x) * \\\n",
      "                np.power(beta/(tau + beta), y)\n",
      "    pr = totalobs * condprob\n",
      "    \n",
      "    return pr\n",
      "\n",
      "        "
     ],
     "language": "python",
     "metadata": {},
     "outputs": [],
     "prompt_number": 4
    },
    {
     "cell_type": "markdown",
     "metadata": {},
     "source": [
      "The attributable risk "
     ]
    },
    {
     "cell_type": "code",
     "collapsed": false,
     "input": [
      "def attributable(x, y, tau):\n",
      "    return 1. - x / (tau * y)"
     ],
     "language": "python",
     "metadata": {},
     "outputs": [],
     "prompt_number": 5
    },
    {
     "cell_type": "markdown",
     "metadata": {},
     "source": [
      "Calculate the confidence intervals $p_L$ and $p_U$:"
     ]
    },
    {
     "cell_type": "code",
     "collapsed": false,
     "input": [
      "def confidence(x, y, alpha, tau):\n",
      "    \n",
      "    \n",
      "    if y == 0:\n",
      "        return None\n",
      "    \n",
      "    n = x + y \n",
      "    q = x/n\n",
      "    if x == 0:\n",
      "        p_U = 1 - np.power(alpha, 1./n)\n",
      "        p_L = 1. - (1. - np.power(alpha, 1./n)) / (tau * np.power(alpha, 1./n))\n",
      "        return p_L, p_U\n",
      "    \n",
      "    z = norm.ppf(alpha/2.)\n",
      "    \n",
      "    det = np.sqrt(q * (1 - q) + z*z/(4 * n))\n",
      "    a = (x + z*z/2) / (n + z*z) \n",
      "    b = z*np.sqrt(n) / (n + z*z)\n",
      "    L = a - b * det\n",
      "    U = a + b * det\n",
      "    \n",
      "    beta_U = tau * (1. - U) / U\n",
      "    beta_L = tau * (1. - L) / L\n",
      "    \n",
      "    p_L = 1. - 1./beta_L\n",
      "    p_U = 1. - 1./beta_U\n",
      "    \n",
      "    return p_L, p_U"
     ],
     "language": "python",
     "metadata": {},
     "outputs": [],
     "prompt_number": 6
    },
    {
     "cell_type": "code",
     "collapsed": false,
     "input": [
      "def plot_results(x, y):\n",
      "    tau = np.array([0.5, 1., 2., 3., 4., 5.])\n",
      "    alpha = 0.05\n",
      "    vatt = np.vectorize(attributable)\n",
      "    vconf = np.vectorize(confidence)\n",
      "    \n",
      "    p = vatt(x, y, tau)\n",
      "    pL, pU = vconf(x, y, alpha, tau)\n",
      "    \n",
      "    fig, ax = plt.subplots(1, figsize=(8,4))\n",
      "    \n",
      "    ax.plot(tau, p, c='red', label='Probability')\n",
      "    ax.fill_between(tau, pL, pU, color='red', alpha=0.25)\n",
      "    ax.set_xlabel(r\"$\\tau$\")\n",
      "    ax.set_ylabel(\"Probability\")\n",
      "    ax.set_xlim((tau.min(), tau.max()))\n",
      "    ax.set_ylim((0, 1))\n",
      "            "
     ],
     "language": "python",
     "metadata": {},
     "outputs": [],
     "prompt_number": 7
    },
    {
     "cell_type": "code",
     "collapsed": false,
     "input": [
      "from IPython.html.widgets import interact, fixed\n",
      "\n",
      "interact(plot_results, x=(0, 100), y=(1, 400))\n"
     ],
     "language": "python",
     "metadata": {},
     "outputs": [
      {
       "metadata": {},
       "output_type": "display_data",
       "png": "[encoded data removed]",
       "text": [
        "<matplotlib.figure.Figure at 0xbfc0ad0>"
       ]
      }
     ],
     "prompt_number": 8
    },
    {
     "cell_type": "code",
     "collapsed": false,
     "input": [],
     "language": "python",
     "metadata": {},
     "outputs": []
    }
   ],
   "metadata": {}
  }
 ]
}