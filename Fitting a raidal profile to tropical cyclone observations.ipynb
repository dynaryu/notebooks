{
 "metadata": {
  "name": "",
  "signature": "sha256:288f6d568a951a5382eda63e43092117ed628cef28f73293aa647235a15fc105"
 },
 "nbformat": 3,
 "nbformat_minor": 0,
 "worksheets": [
  {
   "cells": [
    {
     "cell_type": "heading",
     "level": 1,
     "metadata": {},
     "source": [
      "Fitting a raidal profile to tropical cyclone observations"
     ]
    },
    {
     "cell_type": "markdown",
     "metadata": {},
     "source": [
      "This notebook enables users to load an analysis track file and interactively fit a radial profile to the range of wind radii provided in the track file. The aim is to improve the quality of the simulated wind field by improving the fit of parameters in the profile (namely the Holland $\\beta$ value and the environmental pressure).\n",
      "\n",
      "At a minimum, it requires estimates of the central pressure and the radius to maximum winds. In the absence of pressure at the outermost closed isobar, the daily long-term-mean sea level pressure at the location of the storm is used. \n",
      "\n"
     ]
    },
    {
     "cell_type": "code",
     "collapsed": false,
     "input": [
      "import numpy as np\n",
      "import matplotlib.pyplot as plt\n",
      "import matplotlib.gridspec as gridspec\n",
      "\n",
      "from mpl_toolkits.basemap import cm as basemapcm\n",
      "from mpl_toolkits.axes_grid1 import make_axes_locatable\n",
      "\n",
      "from netCDF4 import Dataset, num2date # netcdf4-python module\n",
      "from datetime import datetime, timedelta\n",
      "\n",
      "# Import widgets for interactive notebook\n",
      "from IPython.html.widgets import interact, fixed\n",
      "from IPython.html import widgets"
     ],
     "language": "python",
     "metadata": {},
     "outputs": [],
     "prompt_number": 1
    },
    {
     "cell_type": "code",
     "collapsed": false,
     "input": [],
     "language": "python",
     "metadata": {},
     "outputs": []
    }
   ],
   "metadata": {}
  }
 ]
}